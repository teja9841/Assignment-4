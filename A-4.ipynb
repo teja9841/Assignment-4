{
 "cells": [
  {
   "cell_type": "markdown",
   "id": "f0566b09",
   "metadata": {},
   "source": [
    "# Assignment - 4"
   ]
  },
  {
   "cell_type": "markdown",
   "id": "5662f608",
   "metadata": {},
   "source": [
    "#### 1. Given a list of numbers, write a python program that returns a new list which Has all duplicate elements removed. And is sorted in an increasing order."
   ]
  },
  {
   "cell_type": "code",
   "execution_count": 6,
   "id": "3663cf76",
   "metadata": {},
   "outputs": [
    {
     "data": {
      "text/plain": [
       "[1, 2, 3, 4, 7, 8, 9]"
      ]
     },
     "execution_count": 6,
     "metadata": {},
     "output_type": "execute_result"
    }
   ],
   "source": [
    "a=[2,1,3,4,2,3,3,2,7,9,8,7]\n",
    "list(set(a))"
   ]
  },
  {
   "cell_type": "markdown",
   "id": "94211071",
   "metadata": {},
   "source": [
    "#### 2. Write a Python program where you will iterate over both keys and values in dictionaries"
   ]
  },
  {
   "cell_type": "code",
   "execution_count": 4,
   "id": "112ab11a",
   "metadata": {},
   "outputs": [
    {
     "name": "stdout",
     "output_type": "stream",
     "text": [
      "Enter your keys here : Apples\n",
      "Provide the values for that key here : 78\n",
      "Type Y to continue or N to stop : y\n",
      "Enter your keys here : Banana\n",
      "Provide the values for that key here : 88\n",
      "Type Y to continue or N to stop : y\n",
      "Enter your keys here : Guva\n",
      "Provide the values for that key here : 56\n",
      "Type Y to continue or N to stop : Y\n",
      "Enter your keys here : Strawberry\n",
      "Provide the values for that key here : 44\n",
      "Type Y to continue or N to stop : n\n",
      "Dictonary items = {'Apples': '78', 'Banana': '88', 'Guva': '56', 'Strawberry': '44'}\n",
      "Keys = dict_keys(['Apples', 'Banana', 'Guva', 'Strawberry'])\n",
      "Values = dict_values(['78', '88', '56', '44'])\n"
     ]
    }
   ],
   "source": [
    "a=True\n",
    "dic={}\n",
    "while a:\n",
    "    keys=input(\"Enter your keys here : \")\n",
    "    values=input(\"Provide the values for that key here : \")\n",
    "    ask=input(\"Type Y to continue or N to stop : \")\n",
    "    dic.update({keys:values})\n",
    "    if ask==\"N\" or ask==\"n\":\n",
    "        break\n",
    "print(\"Dictonary items = {}\".format(dic))\n",
    "print(\"Keys = {}\".format(dic.keys()))\n",
    "print(\"Values = {}\".format(dic.values()))"
   ]
  },
  {
   "cell_type": "markdown",
   "id": "08d39ee0",
   "metadata": {},
   "source": [
    "#### 3. Write a Python program that takes a dictionary of student names and returns a list of student names in alphabetical order"
   ]
  },
  {
   "cell_type": "code",
   "execution_count": 2,
   "id": "37b317d8",
   "metadata": {},
   "outputs": [
    {
     "name": "stdout",
     "output_type": "stream",
     "text": [
      "enter their roll number : 11\n",
      "Provide student name here : Varsha\n",
      "Type Y to continue or N to stop : y\n",
      "enter their roll number : 13\n",
      "Provide student name here : Teja\n",
      "Type Y to continue or N to stop : y\n",
      "enter their roll number : 44\n",
      "Provide student name here : Siddu\n",
      "Type Y to continue or N to stop : y\n",
      "enter their roll number : 55\n",
      "Provide student name here : Sumanth\n",
      "Type Y to continue or N to stop : y\n",
      "enter their roll number : 4\n",
      "Provide student name here : Ameem\n",
      "Type Y to continue or N to stop : n\n",
      "{'11': 'Varsha', '13': 'Teja', '44': 'Siddu', '55': 'Sumanth', '4': 'Ameem'}\n",
      "\n",
      "Sorted names = ['Ameem', 'Siddu', 'Sumanth', 'Teja', 'Varsha']\n"
     ]
    }
   ],
   "source": [
    "a=True\n",
    "students={}\n",
    "while a:\n",
    "    num=input(\"enter their roll number : \")\n",
    "    name=input(\"Provide student name here : \")\n",
    "    ask=input(\"Type Y to continue or N to stop : \")\n",
    "    students.update({num:name})\n",
    "    if ask==\"N\" or ask==\"n\":\n",
    "        a=False\n",
    "print(students)\n",
    "stu=list(students.values())   \n",
    "stu.sort()\n",
    "print(\"\\nSorted names = {}\".format(stu))"
   ]
  },
  {
   "cell_type": "markdown",
   "id": "dd02bb07",
   "metadata": {},
   "source": [
    "#### 4. Write a Python which returns a new list of Booleans, from a given number. Iterating through the number one digit at a time, append True if the digit is 1 and False if it is 0."
   ]
  },
  {
   "cell_type": "code",
   "execution_count": 10,
   "id": "d6aef1e4",
   "metadata": {},
   "outputs": [
    {
     "name": "stdout",
     "output_type": "stream",
     "text": [
      "enter only zeros and ones\n",
      "1100110\n",
      "\n",
      " [True, True, False, False, True, True, False]\n"
     ]
    }
   ],
   "source": [
    "print(\"enter only zeros and ones\")\n",
    "\n",
    "num=input()\n",
    "boolian=[]\n",
    "for i in num:\n",
    "    if i==\"0\":\n",
    "        boolian.append(False)\n",
    "    else:\n",
    "        boolian.append(True)\n",
    "print(\"\\n {}\".format(boolian))"
   ]
  },
  {
   "cell_type": "markdown",
   "id": "39439820",
   "metadata": {},
   "source": [
    "#### 5.Write a Python program where you will return a dictionary where the keys will be the character and the values will be the occurrence of the character in the string, and it should for any string inputs (dynamic)"
   ]
  },
  {
   "cell_type": "code",
   "execution_count": 1,
   "id": "a9f9435e",
   "metadata": {},
   "outputs": [
    {
     "name": "stdout",
     "output_type": "stream",
     "text": [
      "Please enter any string here : my name is ame\n",
      "{'m': 3, 'y': 1, 'n': 1, 'a': 2, 'e': 2, 'i': 1, 's': 1}\n"
     ]
    }
   ],
   "source": [
    "string=input(\"Please enter any string here : \")\n",
    "new=[]\n",
    "dic={}\n",
    "for letters in string:\n",
    "    if letters==\" \":\n",
    "        continue\n",
    "    new.append(letters)\n",
    "for item in new:\n",
    "    dic.update({item:new.count(item)})\n",
    "print(dic)"
   ]
  },
  {
   "cell_type": "markdown",
   "id": "7ff733a2",
   "metadata": {},
   "source": [
    "#### 6. Given a dictionary containing the names and ages of a group of people, return the name of the oldest person"
   ]
  },
  {
   "cell_type": "code",
   "execution_count": 20,
   "id": "dfe6ca94",
   "metadata": {},
   "outputs": [
    {
     "name": "stdout",
     "output_type": "stream",
     "text": [
      "Name : Tmma\n",
      "Age : 41\n",
      "Type Y to continue or N to stop : y\n",
      "Name : Ackes\n",
      "Age : 45\n",
      "Type Y to continue or N to stop : y\n",
      "Name : myna\n",
      "Age : 15\n",
      "Type Y to continue or N to stop : y\n",
      "Name : Benthon\n",
      "Age : 29\n",
      "Type Y to continue or N to stop : n\n",
      "{'Tmma': 41, 'Ackes': 45, 'myna': 15, 'Benthon': 29}\n",
      "\n",
      "The oldest person is --> Ackes\n"
     ]
    }
   ],
   "source": [
    "x=0\n",
    "dic={}\n",
    "while True:\n",
    "    name=input(\"Name : \")\n",
    "    age=int(input(\"Age : \"))\n",
    "    dic.update({name:age})\n",
    "    ask=input(\"Type Y to continue or N to stop : \")\n",
    "    if ask==\"N\" or ask==\"n\":\n",
    "        break\n",
    "old=max(dic.values())\n",
    "names=list(dic.keys())\n",
    "ages=list(dic.values())\n",
    "print(dic)\n",
    "print(\"\\nThe oldest person is --> {}\".format(names[ages.index(old)]))"
   ]
  },
  {
   "cell_type": "markdown",
   "id": "bcd2f089",
   "metadata": {},
   "source": [
    "#### 7. Write a Python program to create a Rock, Paper, Scissor game, use two inputs for two players:\n",
    "\n",
    "    Conditions: -Rock beats Scissors, Scissors beats Paper, Paper beats Rock"
   ]
  },
  {
   "cell_type": "code",
   "execution_count": 7,
   "id": "3db87c08",
   "metadata": {},
   "outputs": [
    {
     "name": "stdout",
     "output_type": "stream",
     "text": [
      "Type: R - Rock\n",
      "      P - Paper\n",
      "      S - Scissor\n",
      "Person 1 name : Teja\n",
      "Person 2 name : Varsha\n",
      "P-1 : R\n",
      "P-2 : P\n",
      "\n",
      "Varsha Wins\n",
      "Type Y to continue or N to stop : Y\n",
      "P-1 : P\n",
      "P-2 : R\n",
      "\n",
      "Teja Wins\n",
      "Type Y to continue or N to stop : N\n",
      "Game Over\n"
     ]
    }
   ],
   "source": [
    "print(\"Type: R - Rock\\n      P - Paper\\n      S - Scissor\")\n",
    "n_1=input(\"Person 1 name : \")\n",
    "n_2=input(\"Person 2 name : \")\n",
    "while True:\n",
    "    person_1=input(\"P-1 : \")\n",
    "    person_2=input(\"P-2 : \")\n",
    "    if person_1==\"R\" and person_2==\"S\":\n",
    "        print(\"\\n{} Wins\".format(n_1))\n",
    "        ask=input(\"Type Y to continue or N to stop : \")\n",
    "        if ask==\"N\" or ask==\"n\":\n",
    "            print(\"Game Over\")\n",
    "            break\n",
    "    elif person_1==\"S\" and person_2==\"P\":\n",
    "        print(\"\\n{} Wins\".format(n_1))\n",
    "        ask=input(\"Type Y to continue or N to stop : \")\n",
    "        if ask==\"N\" or ask==\"n\":\n",
    "            print(\"Game Over\")\n",
    "            break\n",
    "    elif person_1==\"P\" and person_2==\"R\":\n",
    "        print(\"\\n{} Wins\".format(n_1))\n",
    "        ask=input(\"Type Y to continue or N to stop : \")\n",
    "        if ask==\"N\" or ask==\"n\":\n",
    "            print(\"Game Over\")\n",
    "            break\n",
    "    elif person_2==\"R\" and person_1==\"S\":\n",
    "        print(\"\\n{} Wins\".format(n_2))\n",
    "        ask=input(\"Type Y to continue or N to stop : \")\n",
    "        if ask==\"N\" or ask==\"n\":\n",
    "            print(\"Game Over\")\n",
    "            break\n",
    "    elif person_2==\"S\" and person_1==\"P\":\n",
    "        print(\"\\n{} Wins\".format(n_2))\n",
    "        ask=input(\"Type Y to continue or N to stop : \")\n",
    "        if ask==\"N\" or ask==\"n\":\n",
    "            print(\"Game Over\")\n",
    "            break\n",
    "    elif person_2==\"P\" and person_1==\"R\":\n",
    "        print(\"\\n{} Wins\".format(n_2))\n",
    "        ask=input(\"Type Y to continue or N to stop : \")\n",
    "        if ask==\"N\" or ask==\"n\":\n",
    "            print(\"Game Over\")\n",
    "            break                                                                         \n",
    "    elif person_2==\"R\" and person_1==\"R\":\n",
    "        print(\"\\nBoth {} and {} Wins\".format(n_1,n_2))\n",
    "        ask=input(\"Type Y to continue or N to stop : \")\n",
    "        if ask==\"N\" or ask==\"n\":\n",
    "            print(\"Game Over\")\n",
    "            break\n",
    "    elif person_2==\"S\" and person_1==\"S\":\n",
    "        print(\"\\nBoth {} and {} Wins\".format(n_1,n_2))\n",
    "        ask=input(\"Type Y to continue or N to stop : \")\n",
    "        if ask==\"N\" or ask==\"n\":\n",
    "            print(\"Game Over\")\n",
    "            break\n",
    "    elif person_2==\"P\"and person_1==\"P\":\n",
    "        print(\"\\nBoth {} and {} Wins\".format(n_1,n_2))\n",
    "        ask=input(\"Type Y to continue or N to stop : \")\n",
    "        if ask==\"N\" or ask==\"n\":\n",
    "            print(\"Game Over\")\n",
    "            break"
   ]
  },
  {
   "cell_type": "markdown",
   "id": "dea81629",
   "metadata": {},
   "source": [
    "#### 8. Create a program that returns a list of items that you can afford in the store with the money you have in your wallet. Create a dictionary with items as key and price as values\n"
   ]
  },
  {
   "cell_type": "code",
   "execution_count": 21,
   "id": "ed06d90a",
   "metadata": {},
   "outputs": [
    {
     "name": "stdout",
     "output_type": "stream",
     "text": [
      "Please enter your wallet balance : 100\n",
      "['Water Bottle', 'Chips', 'Coke', 'Fruits', 'Pens']\n"
     ]
    }
   ],
   "source": [
    "store={\"Water Bottle\":20,\"Chips\":10,\"Coke\":80,\"Fruits\":50,\"i-phone\":69999,\"Cake\":400,\"Pens\":58,\"T.V\":240000,\"Fridge\":70000}\n",
    "items=list(store.keys())\n",
    "prices=list(store.values())\n",
    "pack=list(zip(items,prices))\n",
    "wallet=int(input(\"Please enter your wallet balance : \"))\n",
    "cart=[]\n",
    "new=[]\n",
    "for tags in prices:                 # Throwing all the price tags into new variable which are in budget range of wallet\n",
    "    if tags<=wallet:\n",
    "        cart.append(tags)\n",
    "for i,j in pack:\n",
    "    if j in cart:\n",
    "        new.append(i)\n",
    "print(new)"
   ]
  },
  {
   "cell_type": "markdown",
   "id": "18e9bf4c",
   "metadata": {},
   "source": [
    "#### 9. Write a Python program to create a union of sets"
   ]
  },
  {
   "cell_type": "code",
   "execution_count": 6,
   "id": "9352074b",
   "metadata": {},
   "outputs": [
    {
     "name": "stdout",
     "output_type": "stream",
     "text": [
      "Names-1 : Apple,Mango,Guva,Grapes\n",
      "Names-2 : Tomato,Onion,Beetroot,Cucumber\n"
     ]
    },
    {
     "data": {
      "text/plain": [
       "{'Apple', 'Beetroot', 'Cucumber', 'Grapes', 'Guva', 'Mango', 'Onion', 'Tomato'}"
      ]
     },
     "execution_count": 6,
     "metadata": {},
     "output_type": "execute_result"
    }
   ],
   "source": [
    "                                                # UNION OF SETS\n",
    "nms1=input(\"Names-1 : \")\n",
    "nms2=input(\"Names-2 : \")\n",
    "names1=set(nms1.split(\",\"))\n",
    "names2=set(nms2.split(\",\")) \n",
    "names1.union(names2)"
   ]
  },
  {
   "cell_type": "markdown",
   "id": "0979d535",
   "metadata": {},
   "source": [
    "#### 10. Write a Python program to check if a given value is present in a set or not"
   ]
  },
  {
   "cell_type": "code",
   "execution_count": 10,
   "id": "87d013d3",
   "metadata": {},
   "outputs": [
    {
     "name": "stdout",
     "output_type": "stream",
     "text": [
      "Provide Numbers here : 586\n",
      "Press S to stop :  .\n",
      "Provide Numbers here : 667\n",
      "Press S to stop :  .\n",
      "Provide Numbers here : 448\n",
      "Press S to stop :  .\n",
      "Provide Numbers here : 983\n",
      "Press S to stop :  s\n",
      "Now provide the numbers to check whether they are present in above created SET..\n",
      "Provide Numbers here : 667\n",
      "Press S to stop :  .\n",
      "Provide Numbers here : 8\n",
      "Press S to stop :  s\n",
      "\n",
      "Number : 667 is in the SET {448, 586, 667, 983}\n",
      "\n",
      "Number : 8 is not in the SET {448, 586, 667, 983}\n"
     ]
    }
   ],
   "source": [
    "st=set()\n",
    "check=[]\n",
    "while True:\n",
    "    enter=int(input(\"Provide Numbers here : \"))                  # Creating SET you want\n",
    "    st.add(enter)\n",
    "    stop=input(\"Press S to stop :  \")\n",
    "    if stop==\"S\" or stop==\"s\":\n",
    "        break\n",
    "        \n",
    "print(\"Now provide the numbers to check whether they are present in above created SET..\")\n",
    "\n",
    "while True:                                                       # Taking numbers to check wether it present inside SET\n",
    "    enter=int(input(\"Provide Numbers here : \"))\n",
    "    check.append(enter)\n",
    "    stop=input(\"Press S to stop :  \")\n",
    "    if stop==\"S\" or stop==\"s\":\n",
    "        break\n",
    "        \n",
    "for num in check:                                                # Checking for the numbers in set.\n",
    "    if num in st:\n",
    "        print(\"\\nNumber : {} is in the SET {}\".format(num,st))\n",
    "    else:\n",
    "        print(\"\\nNumber : {} is not in the SET {}\".format(num,st))"
   ]
  },
  {
   "cell_type": "markdown",
   "id": "a7223fce",
   "metadata": {},
   "source": [
    "#### 11. Write a Python program to find the occurrences of 3 most common words in a given text. And make it as a dictionaries\n"
   ]
  },
  {
   "cell_type": "code",
   "execution_count": 13,
   "id": "5451731b",
   "metadata": {},
   "outputs": [
    {
     "name": "stdout",
     "output_type": "stream",
     "text": [
      "cat dog dog cat horse dog dog mouse horse dog mouse tiger lion tiger cat mouse snail\n",
      "{'cat': 3, 'dog': 5, 'mouse': 3}\n"
     ]
    }
   ],
   "source": [
    "name=input()\n",
    "check=name.split()\n",
    "dic={}\n",
    "for names in check:\n",
    "    if name.count(names)>=3:\n",
    "        dic.update({names:name.count(names)})\n",
    "print(dic)"
   ]
  },
  {
   "cell_type": "markdown",
   "id": "6dc45e15",
   "metadata": {},
   "source": [
    "#### 12. Write a Python program that accepts name of given subject and mark, and make subjects as keys in dictionaries and marks as values and print the final dictionary with subjects and marks\n"
   ]
  },
  {
   "cell_type": "code",
   "execution_count": 4,
   "id": "92a96fc1",
   "metadata": {
    "scrolled": true
   },
   "outputs": [
    {
     "name": "stdout",
     "output_type": "stream",
     "text": [
      "Please enter all the names and marks in their provided column. use [','] to seperate the names\n",
      "Subject Names : Science,Social,Maths\n",
      "Marks : 55,60\n",
      "Subject Names : Science,Social,Maths\n",
      "Marks : 55,60,88\n",
      "{'Science': '55', 'Social': '60', 'Maths': '88'}\n"
     ]
    }
   ],
   "source": [
    "print(\"Please enter all the names and marks in their provided column. use [','] to seperate the names\")\n",
    "progress_report={}\n",
    "while True:\n",
    "    nms=input(\"Subject Names : \")\n",
    "    mks=input(\"Marks : \")\n",
    "    names=nms.split(\",\")\n",
    "    marks=mks.split(\",\")\n",
    "    full=zip(names,marks)\n",
    "    \n",
    "    if len(names)==len(marks):\n",
    "        for i,j in full:\n",
    "            progress_report.update({i:j})\n",
    "        break\n",
    "print(progress_report)"
   ]
  }
 ],
 "metadata": {
  "kernelspec": {
   "display_name": "Python 3 (ipykernel)",
   "language": "python",
   "name": "python3"
  },
  "language_info": {
   "codemirror_mode": {
    "name": "ipython",
    "version": 3
   },
   "file_extension": ".py",
   "mimetype": "text/x-python",
   "name": "python",
   "nbconvert_exporter": "python",
   "pygments_lexer": "ipython3",
   "version": "3.9.7"
  }
 },
 "nbformat": 4,
 "nbformat_minor": 5
}
